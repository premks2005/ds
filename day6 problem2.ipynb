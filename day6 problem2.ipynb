{
 "cells": [
  {
   "cell_type": "markdown",
   "id": "c3d55967-32b1-4869-823b-105627c79de3",
   "metadata": {},
   "source": [
    "findcount(arr),length,num,diff;\n",
    "the function accepts an integer array 'arr' , its length and two integer variables 'num' and 'diff' .\n",
    "implement this function to find and return the number of elements of 'arr' having an absulute difference of less than or equal to 'diff' with 'num'.\n",
    "note: in case there is no element in 'arr' whose absolute difference with 'num' is less than or equal to 'diff' return -1"
   ]
  },
  {
   "cell_type": "code",
   "execution_count": 1,
   "id": "2081092c-c13e-46bc-a11a-2dee7e7570f8",
   "metadata": {},
   "outputs": [],
   "source": [
    "def count(arr,len,num,diff):\n",
    "    count = 0\n",
    "    for i in range(len):\n",
    "        d = abs(num - arr[i])\n",
    "        if d <= diff:\n",
    "            count = count+1\n",
    "    if count==0:\n",
    "        return -1\n",
    "    else:\n",
    "        return count\n",
    "\n",
    "       "
   ]
  },
  {
   "cell_type": "code",
   "execution_count": 2,
   "id": "15f9ca78-dd55-4b5a-9ab3-1feeed9760dd",
   "metadata": {},
   "outputs": [
    {
     "data": {
      "text/plain": [
       "5"
      ]
     },
     "execution_count": 2,
     "metadata": {},
     "output_type": "execute_result"
    }
   ],
   "source": [
    "arr = [1,2,3,4,5]\n",
    "count(arr,5,3,4)"
   ]
  },
  {
   "cell_type": "code",
   "execution_count": null,
   "id": "e8b7e85e-1173-4de6-bc9c-3f85e6fd35fe",
   "metadata": {},
   "outputs": [],
   "source": []
  }
 ],
 "metadata": {
  "kernelspec": {
   "display_name": "Python 3 (ipykernel)",
   "language": "python",
   "name": "python3"
  },
  "language_info": {
   "codemirror_mode": {
    "name": "ipython",
    "version": 3
   },
   "file_extension": ".py",
   "mimetype": "text/x-python",
   "name": "python",
   "nbconvert_exporter": "python",
   "pygments_lexer": "ipython3",
   "version": "3.11.7"
  }
 },
 "nbformat": 4,
 "nbformat_minor": 5
}
